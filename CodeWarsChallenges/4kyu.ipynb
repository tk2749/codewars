{
 "cells": [
  {
   "cell_type": "code",
   "execution_count": 28,
   "metadata": {},
   "outputs": [],
   "source": [
    "#Complete the function/method (depending on the language) to return \n",
    "#true/True when its argument is an array that has the same nesting structure as the first array.\n",
    "\n",
    "#For example:\n",
    "\n",
    "## should return True\n",
    "#same_structure_as([ 1, 1, 1 ], [ 2, 2, 2 ] )\n",
    "#same_structure_as([ 1, [ 1, 1 ] ], [ 2, [ 2, 2 ] ] )\n",
    "\n",
    "## should return False \n",
    "#same_structure_as([ 1, [ 1, 1 ] ], [ [ 2, 2 ], 2 ] )\n",
    "#same_structure_as([ 1, [ 1, 1 ] ], [ [ 2 ], 2 ] )\n",
    "\n",
    "## should return True\n",
    "#same_structure_as([ [ [ ], [ ] ] ], [ [ [ ], [ ] ] ] )\n",
    "\n",
    "## should return False\n",
    "#same_structure_as([ [ [ ], [ ] ] ], [ [ 1, 1 ] ] )\n",
    "def same_structure_as(original,other):\n",
    "    if type(original)!=type(other):\n",
    "        return 1==0 \n",
    "    else:\n",
    "        def look_if_list(l,c,i):\n",
    "            if type(i)==list:\n",
    "                for c2,j in enumerate(i):\n",
    "                    look_if_list(i,c2,j)\n",
    "            else:\n",
    "                l[c]=1    \n",
    "        for c,i in enumerate(original):\n",
    "            look_if_list(original,c,i)\n",
    "        for c,i in enumerate(other):\n",
    "            look_if_list(other,c,i)\n",
    "        return other==original\n"
   ]
  },
  {
   "cell_type": "code",
   "execution_count": 29,
   "metadata": {},
   "outputs": [],
   "source": [
    "#In number theory and combinatorics, a partition of a positive integer n, \n",
    "#also called an integer partition, is a way of writing n as a sum of positive integers. \n",
    "#Two sums that differ only in the order of their summands are considered the same partition. \n",
    "#If order matters, the sum becomes a composition. \n",
    "#For example, 4 can be partitioned in five distinct ways:\n",
    "#4\n",
    "#3 + 1\n",
    "#2 + 2\n",
    "#2 + 1 + 1\n",
    "#1 + 1 + 1 + 1\n",
    "\n",
    "#Basic\n",
    "#exp_sum(1) # 1\n",
    "#exp_sum(2) # 2  -> 1+1 , 2\n",
    "#exp_sum(3) # 3 -> 1+1+1, 1+2, 3\n",
    "#exp_sum(4) # 5 -> 1+1+1+1, 1+1+2, 1+3, 2+2, 4\n",
    "#exp_sum(5) # 7 -> 1+1+1+1+1, 1+1+1+2, 1+1+3, 1+2+2, 1+4, 5, 2+3\n",
    "#exp_sum(10) # 42\n",
    "\n",
    "#Explosive\n",
    "#exp_sum(50) # 204226\n",
    "#exp_sum(80) # 15796476\n",
    "#exp_sum(100) # 190569292\n",
    "\n",
    "def exp_sum(n):\n",
    "    l =[0] * (n + 1) \n",
    "    l[0] = 1  \n",
    "    for i in range(1,n): \n",
    "        for j in range(i,n + 1):   \n",
    "            l[j] +=  l[j - i]              \n",
    "    return l[n]+1"
   ]
  },
  {
   "cell_type": "code",
   "execution_count": null,
   "metadata": {},
   "outputs": [],
   "source": []
  }
 ],
 "metadata": {
  "kernelspec": {
   "display_name": "Python 3",
   "language": "python",
   "name": "python3"
  },
  "language_info": {
   "codemirror_mode": {
    "name": "ipython",
    "version": 3
   },
   "file_extension": ".py",
   "mimetype": "text/x-python",
   "name": "python",
   "nbconvert_exporter": "python",
   "pygments_lexer": "ipython3",
   "version": "3.6.9"
  }
 },
 "nbformat": 4,
 "nbformat_minor": 4
}
